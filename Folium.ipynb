{
  "nbformat": 4,
  "nbformat_minor": 0,
  "metadata": {
    "colab": {
      "provenance": [],
      "mount_file_id": "1fiPGDJoMFgk0GU1UXwxsxsj2K5tzoCOO",
      "authorship_tag": "ABX9TyNPCeSLBlBsqTNr6JhMjjlb",
      "include_colab_link": true
    },
    "kernelspec": {
      "name": "python3",
      "display_name": "Python 3"
    },
    "language_info": {
      "name": "python"
    }
  },
  "cells": [
    {
      "cell_type": "markdown",
      "metadata": {
        "id": "view-in-github",
        "colab_type": "text"
      },
      "source": [
        "<a href=\"https://colab.research.google.com/github/Riccardolotorto/foliumPython/blob/main/Folium.ipynb\" target=\"_parent\"><img src=\"https://colab.research.google.com/assets/colab-badge.svg\" alt=\"Open In Colab\"/></a>"
      ]
    },
    {
      "cell_type": "markdown",
      "source": [
        "https://geopandas.org/en/stable/gallery/plotting_with_folium.html\n"
      ],
      "metadata": {
        "id": "3YDUWGoJjtLZ"
      }
    },
    {
      "cell_type": "markdown",
      "source": [
        "https://python-graph-gallery.com/312-add-markers-on-folium-map/"
      ],
      "metadata": {
        "id": "DrKwcC-Uj04A"
      }
    },
    {
      "cell_type": "code",
      "source": [
        "!pip install geopandas"
      ],
      "metadata": {
        "id": "lqRp-cV-enNG"
      },
      "execution_count": null,
      "outputs": []
    },
    {
      "cell_type": "code",
      "execution_count": 2,
      "metadata": {
        "id": "SOdoe_UPego-"
      },
      "outputs": [],
      "source": [
        "import folium\n",
        "import pandas as pd\n",
        "import geopandas as gpd\n",
        "import matplotlib.pyplot as plt"
      ]
    },
    {
      "cell_type": "code",
      "source": [
        "df = pd.read_csv(\"/content/drive/MyDrive/Colab Notebooks/sosta_turistici.csv\", sep = \";\")\n",
        "df"
      ],
      "metadata": {
        "id": "COEkw7VueyGc"
      },
      "execution_count": null,
      "outputs": []
    },
    {
      "cell_type": "code",
      "source": [
        "from geopandas import GeoDataFrame\n",
        "from shapely.geometry import Point\n",
        "\n",
        "geometry = [Point(xy) for xy in zip(df.LONG_X_4326, df.LAT_Y_4326)]\n",
        "soste = GeoDataFrame(df, crs=\"EPSG:4326\", geometry=geometry)"
      ],
      "metadata": {
        "id": "x4wwXyX5ffUw"
      },
      "execution_count": 23,
      "outputs": []
    },
    {
      "cell_type": "code",
      "source": [
        "soste"
      ],
      "metadata": {
        "id": "qPQiVViDfzbA"
      },
      "execution_count": null,
      "outputs": []
    },
    {
      "cell_type": "code",
      "source": [
        "soste3857 = soste.to_crs(3857)"
      ],
      "metadata": {
        "id": "ugsBESHlf4GJ"
      },
      "execution_count": 24,
      "outputs": []
    },
    {
      "cell_type": "code",
      "source": [
        "quartieri = gpd.read_file('/content/drive/MyDrive/Colab Notebooks/ds964_nil_wm.zip')"
      ],
      "metadata": {
        "id": "8TqAiqeff7Jf"
      },
      "execution_count": 10,
      "outputs": []
    },
    {
      "cell_type": "code",
      "source": [
        "quartieri3857 = quartieri.to_crs(3857)"
      ],
      "metadata": {
        "id": "HmW5OiXogBI1"
      },
      "execution_count": 11,
      "outputs": []
    },
    {
      "cell_type": "code",
      "source": [
        "#visualizzo con folium senza mappa di sottofondo\n",
        "fig, ax = plt.subplots(figsize=(12, 8))\n",
        "quartieri.plot(ax = ax, color = 'grey')\n",
        "soste.plot(column=\"tipologia\", ax=ax, legend=True)\n",
        "plt.title(\"soste\")"
      ],
      "metadata": {
        "id": "Tvtx2e6MgLZm"
      },
      "execution_count": null,
      "outputs": []
    },
    {
      "cell_type": "code",
      "source": [
        "#creare mappa con folium\n",
        "map = folium.Map(location=[45.46542, 9.1859243], tiles=\"OpenStreetMap\", zoom_start=11)\n",
        "map"
      ],
      "metadata": {
        "id": "n7yVqcVqhoz7"
      },
      "execution_count": null,
      "outputs": []
    },
    {
      "cell_type": "code",
      "source": [
        "#aggiungere punti alla mappa di folium\n",
        "for i in range(0,len(df)):\n",
        "   folium.Marker(\n",
        "      location=[df.iloc[i]['LAT_Y_4326'], df.iloc[i]['LONG_X_4326']],\n",
        "      popup=soste.iloc[i]['tipologia'],\n",
        "   ).add_to(map)\n",
        "map"
      ],
      "metadata": {
        "id": "jzwj769_i5NL"
      },
      "execution_count": null,
      "outputs": []
    }
  ]
}